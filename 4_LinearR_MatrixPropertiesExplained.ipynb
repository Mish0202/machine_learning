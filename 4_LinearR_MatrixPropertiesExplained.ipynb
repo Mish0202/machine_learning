{
  "nbformat": 4,
  "nbformat_minor": 0,
  "metadata": {
    "colab": {
      "provenance": [],
      "authorship_tag": "ABX9TyMEPhfuhHoKp1oHH5CUwqux"
    },
    "kernelspec": {
      "name": "python3",
      "display_name": "Python 3"
    },
    "language_info": {
      "name": "python"
    }
  },
  "cells": [
    {
      "cell_type": "markdown",
      "source": [
        "1. Дано: X*beta = y, , beta неизвестно.\n",
        "2. Х = матрица значений независимой переменной, y = вектор значений зависимой переменной , beta = неизвестные коэффициенты (вектор с ними) для переменной x и свободный коэфф.\n",
        "2. Мы хотим вычислить коэффициенты, умножив y на Х^-1 (inverse of X), так как:\n",
        "3. X^-1 * X * beta = X^-1 * y\n",
        "4. Произведение X^-1 * X = I (дает multiplicative identity matrix, то есть единицу, при умножении значения на которую, получаем то же самое значение, в примере - beta).\n",
        "5. В этом случае остается: beta = X^-1 * y.\n",
        "6. Однако, в нашем примере мы так напрямую умножить не можем,\n",
        "т.к. матрицы X^-1 and y не подходят размерами.\n",
        "7. Пользуемся свойством матриц: The inverse of Product\n",
        "8. (A*B)^-1 = A^-1*B^-1\n",
        "9. В выражении в пункте 1. выше домножаем обе части на X^T (X transpose), получаем:\n",
        "10. X^T*X * beta = X^T * y\n",
        "11. Выражаем beta (мы не можем разделить на матрицу/матрицы, но можем умножить на их inverse.\n",
        "12. beta = X^T * y *(X^T * X)^-1\n",
        "13. Выражение (X^T * X)^-1 равнозначно выражению (X^T) ^-1 * X^-1 по свойству в пункте 8.\n",
        "14.  Следовательно, выражение в пункте 12 равнозначно выражению:\n",
        "15. beta = X^T * y * (X^T)^-1*(X^-1) => beta = (X^T*(X^T)^-1)*y*(X^-1), => beta = I *y*X^-1 (где i = multiplicative identity matrix, а оставшееся выражение равнозначно выражению в пункте 5).\n",
        "16. Вычисляем выражение в пункте 12 и получаем ответ: вектор значений коэффициентов beta.\n"
      ],
      "metadata": {
        "id": "s_z43zkFB5cZ"
      }
    },
    {
      "cell_type": "code",
      "execution_count": null,
      "metadata": {
        "id": "I_VyOXICTIYI"
      },
      "outputs": [],
      "source": [
        "import numpy as np\n",
        "from numpy.linalg import inv"
      ]
    },
    {
      "cell_type": "code",
      "source": [
        "y= np.array( [[6], [5], [7], [10]])\n",
        "X= np.array([[1, 1], [1, 2], [1, 3], [1, 4]])\n",
        "\n",
        "X.shape"
      ],
      "metadata": {
        "colab": {
          "base_uri": "https://localhost:8080/"
        },
        "id": "pn-mzpJsTQnx",
        "outputId": "c69a3828-1ed4-490b-c1d8-375a854139db"
      },
      "execution_count": null,
      "outputs": [
        {
          "output_type": "execute_result",
          "data": {
            "text/plain": [
              "(4, 2)"
            ]
          },
          "metadata": {},
          "execution_count": 11
        }
      ]
    },
    {
      "cell_type": "code",
      "source": [
        "np.transpose(X)\n",
        "np.transpose(X).shape"
      ],
      "metadata": {
        "colab": {
          "base_uri": "https://localhost:8080/"
        },
        "id": "_POhYV-n7e7X",
        "outputId": "31123ac6-e1ad-4eba-c61c-cc27ac0e5a38"
      },
      "execution_count": null,
      "outputs": [
        {
          "output_type": "execute_result",
          "data": {
            "text/plain": [
              "(2, 4)"
            ]
          },
          "metadata": {},
          "execution_count": 12
        }
      ]
    },
    {
      "cell_type": "markdown",
      "source": [
        "Next, multiple X and its Transpose to get a square matrix."
      ],
      "metadata": {
        "id": "oCIDf9hhXTb6"
      }
    },
    {
      "cell_type": "code",
      "source": [
        "np.matmul(np.transpose(X), X)\n"
      ],
      "metadata": {
        "colab": {
          "base_uri": "https://localhost:8080/"
        },
        "id": "WmCuQ8k8UUyM",
        "outputId": "2c02f674-6fcf-46bd-a7d8-a3e5815307d0"
      },
      "execution_count": null,
      "outputs": [
        {
          "output_type": "execute_result",
          "data": {
            "text/plain": [
              "array([[ 4, 10],\n",
              "       [10, 30]])"
            ]
          },
          "metadata": {},
          "execution_count": 13
        }
      ]
    },
    {
      "cell_type": "markdown",
      "source": [
        "Now that we have a square matrix, we can calculate its inverse."
      ],
      "metadata": {
        "id": "4gTavaGSXcdz"
      }
    },
    {
      "cell_type": "code",
      "source": [
        "inv(np.matmul(np.transpose(X), X))"
      ],
      "metadata": {
        "colab": {
          "base_uri": "https://localhost:8080/"
        },
        "id": "oixNJw_OVr-4",
        "outputId": "6b7f5e3c-ebc6-4b0b-dd93-15396e7f063a"
      },
      "execution_count": null,
      "outputs": [
        {
          "output_type": "execute_result",
          "data": {
            "text/plain": [
              "array([[ 1.5, -0.5],\n",
              "       [-0.5,  0.2]])"
            ]
          },
          "metadata": {},
          "execution_count": 14
        }
      ]
    },
    {
      "cell_type": "markdown",
      "source": [
        "Now we multiply the inverse we have by the Transpose of original X to receive a matrix\n",
        "that is inverse of X and it has the dimensions (2, 4) that can be multiplied by matrix y (4, 1)"
      ],
      "metadata": {
        "id": "_D3h4ARqXsht"
      }
    },
    {
      "cell_type": "code",
      "source": [
        "np.matmul(inv(np.matmul(np.transpose(X), X)), np.transpose(X))"
      ],
      "metadata": {
        "colab": {
          "base_uri": "https://localhost:8080/"
        },
        "id": "_hzXTK2ZWYhP",
        "outputId": "a3fe51d2-0b51-4b63-e5f1-1de2d5d8a70b"
      },
      "execution_count": null,
      "outputs": [
        {
          "output_type": "execute_result",
          "data": {
            "text/plain": [
              "array([[ 1. ,  0.5,  0. , -0.5],\n",
              "       [-0.3, -0.1,  0.1,  0.3]])"
            ]
          },
          "metadata": {},
          "execution_count": 15
        }
      ]
    },
    {
      "cell_type": "markdown",
      "source": [
        "Now we can finally multiply y into the matrix that is inverse of X and of the appropriate dimensions to receive the coefficients we are looking for."
      ],
      "metadata": {
        "id": "qowhy4SpYLFr"
      }
    },
    {
      "cell_type": "code",
      "source": [
        "np.matmul(np.matmul(inv(np.matmul(np.transpose(X), X)), np.transpose(X)), y)"
      ],
      "metadata": {
        "colab": {
          "base_uri": "https://localhost:8080/"
        },
        "id": "6qjZqoemWryA",
        "outputId": "7d37f7e0-c012-4f1c-cc17-cc27a17879db"
      },
      "execution_count": null,
      "outputs": [
        {
          "output_type": "execute_result",
          "data": {
            "text/plain": [
              "array([[3.5],\n",
              "       [1.4]])"
            ]
          },
          "metadata": {},
          "execution_count": 16
        }
      ]
    },
    {
      "cell_type": "markdown",
      "source": [],
      "metadata": {
        "id": "CogHobT9Wm_k"
      }
    }
  ]
}